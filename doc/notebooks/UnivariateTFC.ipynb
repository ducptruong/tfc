{
 "cells": [
  {
   "cell_type": "markdown",
   "metadata": {},
   "source": [
    "# Univariate Theory of Functional Connections\n",
    "**The Theory of Functional Connections (TFC): A functional interpolation method with applications in solving differential equations.**\n",
    "\n",
    "This tutorial is designed to familiarize the user with the univariate TFC class avialable from the tfc package. To begin, let's univariate TFC class."
   ]
  },
  {
   "cell_type": "code",
   "execution_count": 1,
   "metadata": {},
   "outputs": [],
   "source": [
    "from tfc import tfc as utfc"
   ]
  },
  {
   "cell_type": "markdown",
   "metadata": {},
   "source": [
    "The univariate class has 1 required keyword argument, but typically two are specified. The required keyword argument is $x_f$, which is the right-hand side of the domain. The non-required but typically specified keyword argument is $x_0$, which is the left-hand side of the domain. For now, suppose we are working on the domain $x\\in[0,1]$.\n",
    "\n",
    "The univariate class has 3 required positional arguments, they are:\n",
    "1. $N$, the number of points used when creating the x and z vectors.\n",
    "2. $n_C$, are the basis functions to be removed.\n",
    "3. $m$, the degree of the basis function expansion. In general, this is one larger than the total number of basis functions.\n",
    "The first and third of these required arguments are simple, and are specified as integers. The third can be a bit more complicated. \n",
    "\n",
    "To use least-squares optimization option for TFC, one must remove the terms in the basis function expansion that are linearly dependent to the support functions used to derive the constrained expression. If the basis functions used are polynomials (the typical choice) and the support functions used are monomials (the typical choice), then on typically needs to remove the first $n_C$ basis functions, where $n_C$ is the number of constraints. For this typical case, an integer is all that is needed for this third required argument.\n",
    "\n",
    "Suppose that we wanted to simply remove the first two basis functions."
   ]
  },
  {
   "cell_type": "code",
   "execution_count": 2,
   "metadata": {},
   "outputs": [
    {
     "name": "stdout",
     "output_type": "stream",
     "text": [
      "Number of basis functions: 4\n"
     ]
    }
   ],
   "source": [
    "myTFC = utfc(100,2,5,x0=0,xf=1)\n",
    "print(\"Number of basis functions: \"+str(myTFC.basisClass.m-myTFC.basisClass.numC))"
   ]
  },
  {
   "cell_type": "markdown",
   "metadata": {},
   "source": [
    "The total number of basis functions is equal to the degree specified plus one, i.e., 5+1=6, minus the number of constraints, two, for a total of four. Internally, the univariate TFC class creates an array that stores the basis function terms that are removed: when specifying an integer, this list is merely the first $n_C$ terms."
   ]
  },
  {
   "cell_type": "code",
   "execution_count": 3,
   "metadata": {},
   "outputs": [
    {
     "name": "stdout",
     "output_type": "stream",
     "text": [
      "[0 1]\n"
     ]
    }
   ],
   "source": [
    "print(myTFC.nC)"
   ]
  },
  {
   "cell_type": "markdown",
   "metadata": {},
   "source": [
    "Naturally, one could have specified $n_C$ using a list (or array) in the first place. Suppose in this case that we want to remove the constant and $x^2$ term, i.e., the basis function terms 0 and 2."
   ]
  },
  {
   "cell_type": "code",
   "execution_count": 4,
   "metadata": {},
   "outputs": [
    {
     "name": "stdout",
     "output_type": "stream",
     "text": [
      "Number of basis functions: 4\n",
      "Basis functions removed: [0 2]\n"
     ]
    }
   ],
   "source": [
    "myTFC = utfc(100,[0,2],5,x0=0,xf=1)\n",
    "print(\"Number of basis functions: \"+str(myTFC.basisClass.m-myTFC.basisClass.numC))\n",
    "print(\"Basis functions removed: \"+str(myTFC.nC))"
   ]
  }
 ],
 "metadata": {
  "kernelspec": {
   "display_name": "Python 3",
   "language": "python",
   "name": "python3"
  },
  "language_info": {
   "codemirror_mode": {
    "name": "ipython",
    "version": 3
   },
   "file_extension": ".py",
   "mimetype": "text/x-python",
   "name": "python",
   "nbconvert_exporter": "python",
   "pygments_lexer": "ipython3",
   "version": "3.8.5"
  }
 },
 "nbformat": 4,
 "nbformat_minor": 4
}
