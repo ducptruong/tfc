{
 "cells": [
  {
   "cell_type": "markdown",
   "metadata": {},
   "source": [
    "# Latex\n",
    "This tutorial is for the Latex class available in TFC utilities. As of right now, Latex only provides a table class that can be used to transform numpy arrays into a latex table. Latex may be expanded in the future to include other convenience classes/functions. Let's begin by importing table from Latex."
   ]
  },
  {
   "cell_type": "code",
   "execution_count": 1,
   "metadata": {},
   "outputs": [],
   "source": [
    "import numpy as np\n",
    "from tfc.utils.Latex import table"
   ]
  },
  {
   "cell_type": "markdown",
   "metadata": {},
   "source": [
    "The table class has one public, static method called `SimpleTable` that can be used to create latex tables. This method has one required argument, a NumPy array, whose elements are added to the associated cells of the table. In addition, `SimpleTable` takes in three optional keyword arguments:\n",
    "\n",
    "* form - Number format. Default is %.4E. See float_kind options [numpy.array_to_string](https://numpy.org/doc/stable/reference/generated/numpy.array2string.html) for more details.\n",
    "* colHeader - Column header to be added to the table, specified as a list. Default is blank.\n",
    "* rowHeader - Row header to be added to the table, specified as a list. Default is blank. \n",
    "\n",
    "As an example, suppose we want to print out some array A with a precision of four decimal places.\n"
   ]
  },
  {
   "cell_type": "code",
   "execution_count": 2,
   "metadata": {},
   "outputs": [
    {
     "name": "stdout",
     "output_type": "stream",
     "text": [
      "\\begin{center}\n",
      "\\begin{tabular}{|c|c|c|}\n",
      "\\hline\n",
      "1.000000 & 0.000000 & 0.000000\\\\\n",
      "\\hline\n",
      "0.000000 & 1.000000 & 0.000000\\\\\n",
      "\\hline\n",
      "0.000000 & 0.000000 & 1.000000\\\\\n",
      "\\hline\n",
      "\\end{tabular}\n",
      "\\end{center}\n"
     ]
    }
   ],
   "source": [
    "A = np.eye(3)\n",
    "tab = table.SimpleTable(A,form='%.6f')\n",
    "print(tab)"
   ]
  },
  {
   "cell_type": "markdown",
   "metadata": {},
   "source": [
    "which looks like\n",
    "\n",
    "[//]: # \"Note that I have moved from tabular to array so that this will render with MathJax, but I have checked and the original text renders in LaTeX as expected. - CL\"\n",
    "$$\\begin{array}{|c|c|c|}\n",
    "\\hline\n",
    "1.000000 & 0.000000 & 0.000000\\\\\n",
    "\\hline\n",
    "0.000000 & 1.000000 & 0.000000\\\\\n",
    "\\hline\n",
    "0.000000 & 0.000000 & 1.000000\\\\\n",
    "\\hline\n",
    "\\end{array}$$\n",
    "\n",
    "when imported into LaTeX. Column and row headers can be added to the table as well."
   ]
  },
  {
   "cell_type": "code",
   "execution_count": 3,
   "metadata": {},
   "outputs": [
    {
     "name": "stdout",
     "output_type": "stream",
     "text": [
      "\\begin{center}\n",
      "\\begin{tabular}{|c|c|c|c|}\n",
      "\\hline\n",
      " & Column 1 & Column 2 & Column 3\\\\\n",
      "\\hline\n",
      "Row 1 & 1.000000 & 0.000000 & 0.000000\\\\\n",
      "\\hline\n",
      "Row 2 & 0.000000 & 1.000000 & 0.000000\\\\\n",
      "\\hline\n",
      "Row 3 & 0.000000 & 0.000000 & 1.000000\\\\\n",
      "\\hline\n",
      "\\end{tabular}\n",
      "\\end{center}\n"
     ]
    }
   ],
   "source": [
    "colHeader = ['','Column 1','Column 2','Column 3']\n",
    "rowHeader = ['Row 1','Row 2','Row 3']\n",
    "tab = table.SimpleTable(A,form='%.6f',colHeader=colHeader,rowHeader=rowHeader)\n",
    "print(tab)"
   ]
  },
  {
   "cell_type": "markdown",
   "metadata": {},
   "source": [
    "This table looks like\n",
    "\n",
    "[//]: # \"Note that I have moved from tabular to array so that this will render with MathJax, but I have checked and the original text renders in LaTeX as expected. - CL\"\n",
    "$$\\begin{array}{|c|c|c|c|}\n",
    "\\hline\n",
    " & \\text{Column 1} & \\text{Column 2} & \\text{Column 3}\\\\\n",
    "\\hline\n",
    "\\text{Row 1} & 1.000000 & 0.000000 & 0.000000\\\\\n",
    "\\hline\n",
    "\\text{Row 2} & 0.000000 & 1.000000 & 0.000000\\\\\n",
    "\\hline\n",
    "\\text{Row 3} & 0.000000 & 0.000000 & 1.000000\\\\\n",
    "\\hline\n",
    "\\end{array}$$\n",
    "\n",
    "when imported into Latex. "
   ]
  }
 ],
 "metadata": {
  "kernelspec": {
   "display_name": "Python 3",
   "language": "python",
   "name": "python3"
  },
  "language_info": {
   "codemirror_mode": {
    "name": "ipython",
    "version": 3
   },
   "file_extension": ".py",
   "mimetype": "text/x-python",
   "name": "python",
   "nbconvert_exporter": "python",
   "pygments_lexer": "ipython3",
   "version": "3.8.5"
  }
 },
 "nbformat": 4,
 "nbformat_minor": 4
}
