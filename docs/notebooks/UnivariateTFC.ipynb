{
 "cells": [
  {
   "cell_type": "markdown",
   "metadata": {},
   "source": [
    "# Univariate Theory of Functional Connections\n",
    "This tutorial is based on the theory from and notation found in [The Multivariate Theory of Functional Connections: Theory, Proofs, and Application in Partial Differential Equations](https://www.mdpi.com/2227-7390/8/8/1303): even though this journal article focuses on the multivariate TFC, its opening sections discuss the univariate TFC in detail. This journal article is open access and therefore free to download, and the interested user is encouraged to refer to it where necessary to solidify their understanding of the TFC.\n",
    "\n",
    "## Creating the univariate class\n",
    "This tutorial is designed to familiarize the user with the univariate TFC class. To begin, let's import it."
   ]
  },
  {
   "cell_type": "code",
   "execution_count": 1,
   "metadata": {},
   "outputs": [],
   "source": [
    "from tfc import utfc"
   ]
  },
  {
   "cell_type": "markdown",
   "metadata": {},
   "source": [
    "The univariate class has 1 required keyword argument, but typically two are specified. The required keyword argument is $x_f$, which is the right-hand side of the domain. The non-required but typically specified keyword argument is $x_0$, which is the left-hand side of the domain. For now, suppose we are working on the domain $x\\in[0,1]$.\n",
    "\n",
    "The univariate class has 3 required positional arguments, they are:\n",
    "\n",
    "1. $N$ - the number of points used when creating the x and z vectors; the discretization points for the problem domain and free function domain respectively.\n",
    "2. $n_C$ - are the basis functions to be removed.\n",
    "3. $m$ - the degree of the basis function expansion. In general, this is one larger than the total number of basis functions.\n",
    "\n",
    "The first and third of these required arguments are simple, and are specified as integers. The second can be a bit more complicated. \n",
    "\n",
    "To use least-squares optimization option for TFC, one must remove the terms in the basis function expansion that are linearly dependent to the support functions used to derive the constrained expression. If the basis functions used are polynomials (the typical choice) and the support functions used are monomials (the typical choice), then on typically needs to remove the first $n_C$ basis functions, where $n_C$ is the number of constraints. For this typical case, an integer is all that is needed for this third required argument.\n",
    "\n",
    "Suppose that we wanted to simply remove the first two basis functions."
   ]
  },
  {
   "cell_type": "code",
   "execution_count": 2,
   "metadata": {},
   "outputs": [
    {
     "name": "stdout",
     "output_type": "stream",
     "text": [
      "Number of basis functions: 4\n"
     ]
    }
   ],
   "source": [
    "myTFC = utfc(100,2,5,x0=0,xf=1)\n",
    "print(\"Number of basis functions: \"+str(myTFC.basisClass.m-myTFC.basisClass.numC))"
   ]
  },
  {
   "cell_type": "markdown",
   "metadata": {},
   "source": [
    "The total number of basis functions is equal to the degree specified plus one, i.e., 5+1=6, minus the number of constraints, two, for a total of four. Internally, the univariate TFC class creates an array that stores the basis function terms that are removed: when specifying an integer, this list is merely the first $n_C$ terms."
   ]
  },
  {
   "cell_type": "code",
   "execution_count": 3,
   "metadata": {},
   "outputs": [
    {
     "name": "stdout",
     "output_type": "stream",
     "text": [
      "[0 1]\n"
     ]
    }
   ],
   "source": [
    "print(myTFC.nC)"
   ]
  },
  {
   "cell_type": "markdown",
   "metadata": {},
   "source": [
    "Naturally, one could have specified $n_C$ using a list (or array) in the first place. Suppose in this case that we want to remove the constant and $x^2$ term, i.e., the basis function terms 0 and 2."
   ]
  },
  {
   "cell_type": "code",
   "execution_count": 4,
   "metadata": {},
   "outputs": [
    {
     "name": "stdout",
     "output_type": "stream",
     "text": [
      "Number of basis functions: 4\n",
      "Basis functions removed: [0 2]\n"
     ]
    }
   ],
   "source": [
    "myTFC = utfc(100,[0,2],5,x0=0,xf=1)\n",
    "print(\"Number of basis functions: \"+str(myTFC.basisClass.m-myTFC.basisClass.numC))\n",
    "print(\"Basis functions removed: \"+str(myTFC.nC))"
   ]
  },
  {
   "cell_type": "markdown",
   "metadata": {},
   "source": [
    "If one wanted to keep all basis functions, this could accomplished by setting nC = -1.\n",
    "\n",
    "The univariate TFC class also contains the following optional keyword arguments:\n",
    "\n",
    "* basis - This optional string keyword argument specifies the functions that will be used. The default is Chebyshev orthogonal polynomials. It can be specified as:\n",
    "\n",
    "  * CP - Chebyshev orthogonal polynomials\n",
    "  * LeP - Legendre orthogonal polynomials\n",
    "  * FS - Fourier basis\n",
    "  * ELMReLU - ELM that uses the rectified linear unit as the nonlinear activation function\n",
    "  * ELMTanh - ELM that uses the hyberbolic tangent as the nonlinear activation function.\n",
    "  * ELMSigmoid - ELM that uses the sigmoid as the nonlinear activation function\n",
    "  * ELMSinh - ELM that uses swish as the nonlinear activation function\n",
    "  * ELMSin - ELM that uses sin as the nonlinear activation function\n",
    "  \n",
    "* x0 - This optional keyword argument is used to specify the beginning of the differential equation domain. The default is 0.\n",
    "\n",
    "For example, suppose we wanted to create a univariate TFC class that uses the first 4 terms of the Fourier basis on the domain $x\\in[3,7]$. This could be done using:"
   ]
  },
  {
   "cell_type": "code",
   "execution_count": 5,
   "metadata": {},
   "outputs": [],
   "source": [
    "myTFC = utfc(10,2,3,x0=3,xf=7)"
   ]
  },
  {
   "cell_type": "markdown",
   "metadata": {},
   "source": [
    "## Using the basis functions\n",
    "The main purpose of the univariate TFC class is to provide a way to easily create and take derivatives of the linear combinations of functions that form the free function. These are easily accessed using via the H method. "
   ]
  },
  {
   "cell_type": "code",
   "execution_count": 6,
   "metadata": {},
   "outputs": [
    {
     "name": "stdout",
     "output_type": "stream",
     "text": [
      "[[ 1.         -1.        ]\n",
      " [ 0.76604444 -0.5       ]\n",
      " [ 0.17364818  0.5       ]\n",
      " [-0.5         1.        ]\n",
      " [-0.93969262  0.5       ]\n",
      " [-0.93969262 -0.5       ]\n",
      " [-0.5        -1.        ]\n",
      " [ 0.17364818 -0.5       ]\n",
      " [ 0.76604444  0.5       ]\n",
      " [ 1.          1.        ]]\n"
     ]
    }
   ],
   "source": [
    "x = myTFC.x\n",
    "H = myTFC.H\n",
    "print(H(x))"
   ]
  },
  {
   "cell_type": "markdown",
   "metadata": {},
   "source": [
    "The H method also contains an optional keyword argument boolean argument called full that can be used to neglect the the removal of the terms specified by $n_C$."
   ]
  },
  {
   "cell_type": "code",
   "execution_count": 7,
   "metadata": {},
   "outputs": [
    {
     "name": "stdout",
     "output_type": "stream",
     "text": [
      "[[ 1.         -1.          1.         -1.        ]\n",
      " [ 1.         -0.93969262  0.76604444 -0.5       ]\n",
      " [ 1.         -0.76604444  0.17364818  0.5       ]\n",
      " [ 1.         -0.5        -0.5         1.        ]\n",
      " [ 1.         -0.17364818 -0.93969262  0.5       ]\n",
      " [ 1.          0.17364818 -0.93969262 -0.5       ]\n",
      " [ 1.          0.5        -0.5        -1.        ]\n",
      " [ 1.          0.76604444  0.17364818 -0.5       ]\n",
      " [ 1.          0.93969262  0.76604444  0.5       ]\n",
      " [ 1.          1.          1.          1.        ]]\n"
     ]
    }
   ],
   "source": [
    "print(H(x,full=True))"
   ]
  },
  {
   "cell_type": "markdown",
   "metadata": {},
   "source": [
    "In addition to H, the TFC class also provides access to dH, d2H, d4H, and d8H which can be used to access the first, second, fourth, and eighth derivative of H directly. The function H and the derivative variants are all encoded as JAX primitives. Therefore, one can take derivatives of them using the JAX transformations or even run them via the JIT compiler. Of course, since these are non-scalar functions, one must use an elementwise gradient rather than the standard grad transformation available from JAX. The TFC package comes equippped with an elemenwise gradient function."
   ]
  },
  {
   "cell_type": "code",
   "execution_count": 8,
   "metadata": {},
   "outputs": [],
   "source": [
    "import jax.numpy as np\n",
    "from jax import jit\n",
    "from tfc.utils import egrad\n",
    "dH = myTFC.dH\n",
    "dHjax = jit(egrad(H))\n",
    "assert(np.all(dH(x)==dHjax(x)))"
   ]
  },
  {
   "cell_type": "markdown",
   "metadata": {},
   "source": [
    "The user is encouraged to consult the [JAX GitHub](https://github.com/google/jax) and the [JAX documentation](https://jax.readthedocs.io/en/latest/) for more information on the JAX package."
   ]
  },
  {
   "cell_type": "markdown",
   "metadata": {},
   "source": [
    "## Miscellaneous\n",
    "The TFC class also includes the step method, which is a variant of the Heaviside function that is utilized for embedding inequality constraints, as well as a method called \"LS\" that performs least-squares via a scaled QR decomposition. "
   ]
  }
 ],
 "metadata": {
  "kernelspec": {
   "display_name": "Python 3",
   "language": "python",
   "name": "python3"
  },
  "language_info": {
   "codemirror_mode": {
    "name": "ipython",
    "version": 3
   },
   "file_extension": ".py",
   "mimetype": "text/x-python",
   "name": "python",
   "nbconvert_exporter": "python",
   "pygments_lexer": "ipython3",
   "version": "3.8.5"
  }
 },
 "nbformat": 4,
 "nbformat_minor": 4
}
