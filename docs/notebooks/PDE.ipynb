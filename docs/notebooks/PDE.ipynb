{
 "cells": [
  {
   "cell_type": "markdown",
   "metadata": {},
   "source": [
    "# Solving Partial Differential Equations (PDEs)\n",
    "If you are not yet familiar with the multivarite TFC class, `mtfc`, it is recommended you learn more about it via the [multivariate TFC notebook](MultivariateTFC.ipynb).\n",
    "\n",
    "Consider the nonlinear PDE,\n",
    "\n",
    "$$ u_{xx}+u_xu_y = 2\\cos(y)-2x^3\\sin(y)\\cos(y)$$\n",
    "\n",
    "where a subscript with respect to $x$ denotes a derivative with respect to $x$, subject to the boundary constraints\n",
    "\n",
    "$$ u(0,y) = 0, \\quad u(1,y) = \\cos(y), \\quad \\text{and} \\quad u(x,0) = u(x,2\\pi)$$\n",
    "\n",
    "on the domain $(x,y)\\in[0,1]\\times[0,2\\pi]$. The analytical solution to this differential equation is:\n",
    "\n",
    "$$ u(x,y)=x^2\\cos(y). $$\n",
    "\n",
    "To begin, let's create the multivariate TFC class and create the analytical solution so we can compare against it later."
   ]
  },
  {
   "cell_type": "code",
   "execution_count": 1,
   "metadata": {},
   "outputs": [],
   "source": [
    "import jax.numpy as np\n",
    "from tfc import mtfc\n",
    "\n",
    "# Create the multivariate TFC class\n",
    "N = [25,25] # Number of points in the domain\n",
    "m = 25 # Degree of basis function expansion\n",
    "nC = [2,[1,-1]] # Indicates which basis functions need to be removed from the expansion\n",
    "x0 = [0,0] # Start of the domain for each dimension\n",
    "xf = [1,2.*np.pi] # End of the domain in each dimension\n",
    "\n",
    "myTfc = mtfc(N,nC,m,x0=x0,xf=xf)\n",
    "\n",
    "# Create the analytical solution\n",
    "realSoln = lambda x,y: x**2*np.cos(y)"
   ]
  },
  {
   "cell_type": "markdown",
   "metadata": {},
   "source": [
    "Notice that $nC$ has been chosen such that the first two basis functions will be removed in from the first dimension, and the second basis function will be removed from the second dimension. That is because these Chebyshev orthogonal polynomials are linearly dependent to the support functions used to create the constrained expression. The remaining variables, $N$ and $m$, were chosen based on the author's previous experience solving PDEs using TFC. \n",
    "\n",
    "The next step is to develop the constrained expression,\n",
    "\n",
    "$$\\require{mhchem} \\ce{^{(1)}u}(x,y,g(x,y)) = g(x,y) - (1-x)g(0,y) + x(\\cos(y)-g(1,y))\\\\\n",
    "   u(x,y,\\ce{^{(1)}u}(x,y,g(x,y))) = \\ce{^{(1)}u}(x,y,g(x,y)) + \\frac{y}{2\\pi}\\Big(\\ce{^{(1)}u}(x,2\\pi,g(x,y))-\\ce{^{(1)}u}(x,0,g(x,y))\\Big)$$\n",
    "\n",
    "If you are unfamiliar with what a constrained expression is or how to derive one, [this article](https://www.mdpi.com/2227-7390/8/8/1303) is a good starting point."
   ]
  },
  {
   "cell_type": "code",
   "execution_count": 2,
   "metadata": {},
   "outputs": [],
   "source": [
    "x = myTfc.x # Collocation points from the TFC class\n",
    "\n",
    "# Get the basis functions from the TFC class\n",
    "H = myTfc.H\n",
    "\n",
    "# Create the constrained expression\n",
    "g = lambda xi,*x: np.dot(H(*x),xi)\n",
    "u1 = lambda xi,*x: g(xi,*x)-(1.-x[0])*g(xi,np.zeros_like(x[0]),x[1])+x[0]*(np.cos(x[1])-g(xi,np.ones_like(x[0]),x[1]))\n",
    "u = lambda xi,*x: u1(xi,*x)+x[1]/(2.*np.pi)*(u1(xi,x[0],2.*np.pi*np.ones_like(x[1]))-u1(xi,x[0],np.zeros_like(x[1])))\n",
    "                                             "
   ]
  },
  {
   "cell_type": "markdown",
   "metadata": {},
   "source": [
    "Finally, form the residual of the differential equation and minimize it using nonlinear least-squares."
   ]
  },
  {
   "cell_type": "code",
   "execution_count": 3,
   "metadata": {},
   "outputs": [],
   "source": [
    "from tfc.utils import egrad, NLLS\n",
    "\n",
    "# Create the residual\n",
    "ux = egrad(u,1)\n",
    "uxx = egrad(ux,1)\n",
    "uy = egrad(u,2)\n",
    "L = lambda xi: uxx(xi,*x)+ux(xi,*x)*uy(xi,*x)-2.*np.cos(x[1])+2.*x[0]**3*np.sin(x[1])*np.cos(x[1])\n",
    "\n",
    "# Minimize the residual using least-squares\n",
    "xi0 = np.zeros(H(*x).shape[1])\n",
    "xi,_,time = NLLS(xi0,L,timer=True)"
   ]
  },
  {
   "cell_type": "markdown",
   "metadata": {},
   "source": [
    "Note that the last line in the above code block calls the JIT. Therefore, it may take a few seconds to run, because code is being compiled. However, once the code is finished compiling it runs very fast. The time returned by the `NLLS` function is the time it takes the compiled code to run, not the time it takes to compile the code itself. For more information on this function (and an associated class form) see the tutorial on [NLLS](NLLS.ipynb). \n",
    "\n",
    "Finally, lets compare the results to the true solution on a test set, and show some statistics about the TFC solution."
   ]
  },
  {
   "cell_type": "code",
   "execution_count": 4,
   "metadata": {},
   "outputs": [
    {
     "name": "stdout",
     "output_type": "stream",
     "text": [
      "Maximum error on test set: 2.6201263381153694e-14\n",
      "Mean error on the test set: 3.888455747898988e-16\n",
      "TFC run time: 1.7173270179999989 seconds\n"
     ]
    }
   ],
   "source": [
    "# Calculate the error on the test set\n",
    "testSetMat = np.meshgrid(np.linspace(0,1,100),np.linspace(0,2.*np.pi,100))\n",
    "testSet = [testSetMat[k].flatten() for k in range(2)]\n",
    "error = np.abs(u(xi,*testSet)-realSoln(*testSet))\n",
    "\n",
    "# Print out the results\n",
    "print(\"Maximum error on test set: \" +str(np.max(error)))\n",
    "print(\"Mean error on the test set: \"+str(np.mean(error)))\n",
    "print(\"TFC run time: \"+str(time)+\" seconds\")"
   ]
  },
  {
   "cell_type": "markdown",
   "metadata": {},
   "source": [
    "The TFC estimated solution is has a mean error on the order of $10^{-16}$ and was obtained in less than two seconds."
   ]
  }
 ],
 "metadata": {
  "kernelspec": {
   "display_name": "Python 3",
   "language": "python",
   "name": "python3"
  },
  "language_info": {
   "codemirror_mode": {
    "name": "ipython",
    "version": 3
   },
   "file_extension": ".py",
   "mimetype": "text/x-python",
   "name": "python",
   "nbconvert_exporter": "python",
   "pygments_lexer": "ipython3",
   "version": "3.8.5"
  }
 },
 "nbformat": 4,
 "nbformat_minor": 4
}
